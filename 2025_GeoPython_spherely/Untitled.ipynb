{
 "cells": [
  {
   "cell_type": "markdown",
   "id": "20e74096-3dee-49de-8491-bc331fbc2e1c",
   "metadata": {},
   "source": [
    "# Shapely 2.0 demo"
   ]
  },
  {
   "cell_type": "code",
   "execution_count": 1,
   "id": "eeff249a-b76d-4930-80ef-35b228838138",
   "metadata": {},
   "outputs": [],
   "source": [
    "import numpy as np\n",
    "\n",
    "import shapely\n",
    "from shapely import Point"
   ]
  },
  {
   "cell_type": "code",
   "execution_count": 2,
   "id": "fc0c7c45-e92c-4977-87fa-c830a26f7377",
   "metadata": {},
   "outputs": [
    {
     "data": {
      "text/plain": [
       "array([False,  True, False])"
      ]
     },
     "execution_count": 2,
     "metadata": {},
     "output_type": "execute_result"
    }
   ],
   "source": [
    "points = np.array([Point(0, 0), Point(1, 1), Point(2, 2)])\n",
    "polygon = shapely.box(0, 0, 2, 2)\n",
    "\n",
    "shapely.contains(polygon, points)"
   ]
  },
  {
   "cell_type": "code",
   "execution_count": 3,
   "id": "7663fb15-7cb8-4675-9f63-4390e61ad8f1",
   "metadata": {},
   "outputs": [
    {
     "data": {
      "text/plain": [
       "array([[0.        , 1.41421356, 2.82842712],\n",
       "       [1.41421356, 0.        , 1.41421356],\n",
       "       [2.82842712, 1.41421356, 0.        ]])"
      ]
     },
     "execution_count": 3,
     "metadata": {},
     "output_type": "execute_result"
    }
   ],
   "source": [
    "shapely.distance(points[:, np.newaxis], points[np.newaxis, :])"
   ]
  },
  {
   "cell_type": "code",
   "execution_count": 2,
   "id": "c057122e-e353-436f-84ee-8ea7a4ba8735",
   "metadata": {},
   "outputs": [],
   "source": [
    "import shapely"
   ]
  },
  {
   "cell_type": "code",
   "execution_count": null,
   "id": "4d071cef-acce-4716-83fa-24180337d864",
   "metadata": {},
   "outputs": [],
   "source": []
  },
  {
   "cell_type": "code",
   "execution_count": 22,
   "id": "a6dca48e-f72f-4719-9803-e6c00227a02d",
   "metadata": {},
   "outputs": [],
   "source": [
    "polygons = shapely.get_parts(\n",
    "            shapely.union_all(\n",
    "                shapely.buffer(shapely.points(np.random.random((2000, 2)) * 500), 5)\n",
    "            )\n",
    "        )"
   ]
  },
  {
   "cell_type": "code",
   "execution_count": 23,
   "id": "93882858-a52c-411f-8d2a-0829242559c9",
   "metadata": {},
   "outputs": [],
   "source": [
    "tree = shapely.STRtree(polygons)"
   ]
  },
  {
   "cell_type": "code",
   "execution_count": 24,
   "id": "6d44ccb2-cf81-41ee-96e8-3b0455043f0a",
   "metadata": {},
   "outputs": [
    {
     "data": {
      "text/plain": [
       "485"
      ]
     },
     "execution_count": 24,
     "metadata": {},
     "output_type": "execute_result"
    }
   ],
   "source": [
    "len(polygons)"
   ]
  },
  {
   "cell_type": "code",
   "execution_count": 25,
   "id": "5a8f8937-30bf-4270-a4d6-2581e251efa2",
   "metadata": {},
   "outputs": [],
   "source": [
    "points = shapely.points((np.random.random((10000, 2)) * 750) - 125)"
   ]
  },
  {
   "cell_type": "code",
   "execution_count": 38,
   "id": "e3aa0862-049f-4cd9-8416-d397fa70991c",
   "metadata": {},
   "outputs": [],
   "source": [
    "from shapely.plotting import plot_polygon, plot_points"
   ]
  },
  {
   "cell_type": "code",
   "execution_count": 39,
   "id": "b56a1ac5-e63f-4360-ae2f-e9673cc05304",
   "metadata": {},
   "outputs": [
    {
     "data": {
      "text/plain": [
       "<matplotlib.lines.Line2D at 0x7fec4c8a0a00>"
      ]
     },
     "execution_count": 39,
     "metadata": {},
     "output_type": "execute_result"
    },
    {
     "data": {
      "image/png": "[encoded data removed]",
      "text/plain": [
       "<Figure size 432x288 with 1 Axes>"
      ]
     },
     "metadata": {
      "needs_background": "light"
     },
     "output_type": "display_data"
    }
   ],
   "source": [
    "plot_points(shapely.MultiPoint(list(points)))"
   ]
  },
  {
   "cell_type": "code",
   "execution_count": 26,
   "id": "fea0763c-4f53-4dd3-b8b8-72d562ea4ad5",
   "metadata": {},
   "outputs": [
    {
     "data": {
      "text/plain": [
       "10000"
      ]
     },
     "execution_count": 26,
     "metadata": {},
     "output_type": "execute_result"
    }
   ],
   "source": [
    "len(points)"
   ]
  },
  {
   "cell_type": "code",
   "execution_count": 50,
   "id": "b7e76f8b-d0b8-4e85-a884-873db48fc936",
   "metadata": {},
   "outputs": [
    {
     "data": {
      "text/plain": [
       "array([[False, False, False, ..., False, False, False],\n",
       "       [False, False, False, ..., False, False, False],\n",
       "       [False, False, False, ..., False, False, False],\n",
       "       ...,\n",
       "       [False, False, False, ..., False, False, False],\n",
       "       [False, False, False, ..., False, False, False],\n",
       "       [False, False, False, ..., False, False, False]])"
      ]
     },
     "execution_count": 50,
     "metadata": {},
     "output_type": "execute_result"
    }
   ],
   "source": [
    "shapely.contains(polygons, points[:, np.newaxis])"
   ]
  },
  {
   "cell_type": "code",
   "execution_count": 27,
   "id": "ba6378e8-4402-4d63-96dd-7e50ff42cdef",
   "metadata": {},
   "outputs": [
    {
     "name": "stdout",
     "output_type": "stream",
     "text": [
      "259 ms ± 12.9 ms per loop (mean ± std. dev. of 7 runs, 1 loop each)\n"
     ]
    }
   ],
   "source": [
    "%timeit shapely.contains(polygons, points[:, np.newaxis])"
   ]
  },
  {
   "cell_type": "code",
   "execution_count": 42,
   "id": "904ffc00-ebcc-40d3-9fb7-ba0408a117a5",
   "metadata": {},
   "outputs": [
    {
     "data": {
      "text/plain": [
       "array([[   1,    6,    8, ..., 9988, 9991, 9996],\n",
       "       [ 430,  474,  373, ...,  255,  255,   12]])"
      ]
     },
     "execution_count": 42,
     "metadata": {},
     "output_type": "execute_result"
    }
   ],
   "source": [
    "tree.query(points, predicate=\"within\")"
   ]
  },
  {
   "cell_type": "code",
   "execution_count": 43,
   "id": "6d7a0497-5663-45c2-8461-16e317830f3b",
   "metadata": {},
   "outputs": [
    {
     "name": "stdout",
     "output_type": "stream",
     "text": [
      "105 ms ± 9.11 ms per loop (mean ± std. dev. of 7 runs, 10 loops each)\n"
     ]
    }
   ],
   "source": [
    "%timeit tree.query(points, predicate=\"within\")"
   ]
  },
  {
   "cell_type": "code",
   "execution_count": 44,
   "id": "2be821dd-ea80-4c78-87c0-6c04a9bbc4ea",
   "metadata": {},
   "outputs": [],
   "source": [
    "tree = shapely.STRtree(points)"
   ]
  },
  {
   "cell_type": "code",
   "execution_count": 45,
   "id": "193d6fcc-e0b1-45b7-8c79-a41d7eddf678",
   "metadata": {},
   "outputs": [
    {
     "name": "stdout",
     "output_type": "stream",
     "text": [
      "1.07 ms ± 60.9 µs per loop (mean ± std. dev. of 7 runs, 100 loops each)\n"
     ]
    }
   ],
   "source": [
    "%timeit tree.query(polygons, predicate=\"contains\")"
   ]
  },
  {
   "cell_type": "code",
   "execution_count": 48,
   "id": "e759c41b-9fac-452e-b678-c2adfd3eac55",
   "metadata": {},
   "outputs": [
    {
     "data": {
      "text/plain": [
       "array([[   1,    1,    1, ...,  484,  484,  484],\n",
       "       [8780, 8219,  262, ..., 2224, 5212, 4210]])"
      ]
     },
     "execution_count": 48,
     "metadata": {},
     "output_type": "execute_result"
    }
   ],
   "source": [
    "tree.query(polygons, predicate=\"contains\")"
   ]
  },
  {
   "cell_type": "code",
   "execution_count": 49,
   "id": "c45e077d-d82b-4cc9-9ff5-48cd3c8d622f",
   "metadata": {},
   "outputs": [
    {
     "data": {
      "text/plain": [
       "(2, 2092)"
      ]
     },
     "execution_count": 49,
     "metadata": {},
     "output_type": "execute_result"
    }
   ],
   "source": [
    "_.shape"
   ]
  },
  {
   "cell_type": "code",
   "execution_count": 30,
   "id": "ceac1181-e59b-4b58-9530-c8130c6877ab",
   "metadata": {},
   "outputs": [],
   "source": [
    "shapely.prepare(polygons)"
   ]
  },
  {
   "cell_type": "code",
   "execution_count": null,
   "id": "572519cd-9fdb-47fd-858b-fd2feb2c1564",
   "metadata": {},
   "outputs": [],
   "source": []
  },
  {
   "cell_type": "code",
   "execution_count": null,
   "id": "4d69eb82-2ff3-4209-b60d-d86772410889",
   "metadata": {},
   "outputs": [],
   "source": [
    "        # create irregular polygons my merging overlapping point buffers\n",
    "        self.polygons = shapely.get_parts(\n",
    "            shapely.union_all(\n",
    "                shapely.buffer(shapely.points(np.random.random((2000, 2)) * 500), 5)\n",
    "            )\n",
    "        )\n",
    "        self.tree = shapely.STRtree(self.polygons)\n",
    "        # initialize the tree by making a tiny query first\n",
    "        self.tree.query(shapely.points(0, 0))\n",
    "\n",
    "        # create points that extend beyond the domain of the above polygons to ensure\n",
    "        # some don't overlap\n",
    "        self.points = shapely.points((np.random.random((2000, 2)) * 750) - 125)\n",
    "        self.point_tree = shapely.STRtree(\n",
    "            shapely.points(np.random.random((2000, 2)) * 750)\n",
    "        )\n",
    "        self.point_tree.query(shapely.points(0, 0))\n"
   ]
  },
  {
   "cell_type": "code",
   "execution_count": null,
   "id": "7e9081c4-5191-4834-8d47-024ee8031436",
   "metadata": {},
   "outputs": [],
   "source": []
  }
 ],
 "metadata": {
  "kernelspec": {
   "display_name": "Python (shapely-dev)",
   "language": "python",
   "name": "shapely-dev"
  },
  "language_info": {
   "codemirror_mode": {
    "name": "ipython",
    "version": 3
   },
   "file_extension": ".py",
   "mimetype": "text/x-python",
   "name": "python",
   "nbconvert_exporter": "python",
   "pygments_lexer": "ipython3",
   "version": "3.9.15"
  }
 },
 "nbformat": 4,
 "nbformat_minor": 5
}
